{
 "cells": [
  {
   "cell_type": "code",
   "execution_count": 12,
   "id": "528746b9",
   "metadata": {},
   "outputs": [],
   "source": [
    "from pymatgen.ext.matproj import MPRester\n",
    "from pymatgen.symmetry.analyzer import SpacegroupAnalyzer\n",
    "from pymatgen.analysis.diffraction.xrd import XRDCalculator"
   ]
  },
  {
   "cell_type": "markdown",
   "id": "94011fbd",
   "metadata": {},
   "source": [
    "## Collecte des données"
   ]
  },
  {
   "cell_type": "code",
   "execution_count": 13,
   "id": "771e440e",
   "metadata": {},
   "outputs": [],
   "source": [
    "# input the mp id and the API key\n",
    "MP_id = \"mp-867193\"\n",
    "API = \"aEF0VdAXhHPNJOkG\"\n",
    "\n",
    "# defining the material object\n",
    "mpr = MPRester(API)\n",
    "structure = mpr.get_structure_by_material_id(MP_id)"
   ]
  },
  {
   "cell_type": "code",
   "execution_count": 14,
   "id": "2bfe52d4",
   "metadata": {},
   "outputs": [],
   "source": [
    "xrd = XRDCalculator(1.54060)\n",
    "pat = xrd.get_pattern(structure)"
   ]
  },
  {
   "cell_type": "markdown",
   "id": "47945652",
   "metadata": {},
   "source": [
    "## Déterminer les 3 premiers pics du diffractogramme correspondant avec les indices hkl pour un rayonnement X incident Cu Kα de longueur d’onde λ=1.54060 Å."
   ]
  },
  {
   "cell_type": "markdown",
   "id": "fa9aee8f",
   "metadata": {},
   "source": [
    "### Premier pic du diffractogramme et indicie hkl correspondant"
   ]
  },
  {
   "cell_type": "code",
   "execution_count": 15,
   "id": "612abb40",
   "metadata": {},
   "outputs": [
    {
     "name": "stdout",
     "output_type": "stream",
     "text": [
      "Angle theta : 19.14835007207992°\n",
      "Intensité du pic : 0.04804394637023096\n",
      "Indices hkl du pic :[{'hkl': (1, 1, 1), 'multiplicity': 2}, {'hkl': (1, 0, 0), 'multiplicity': 6}]\n"
     ]
    }
   ],
   "source": [
    "#Angle du premier pic\n",
    "theta_1 = pat.x[0]\n",
    "\n",
    "#Intensité du premier pic\n",
    "pic_1 = pat.y[0]\n",
    "\n",
    "#Indices hkl du premier pic\n",
    "hkl_1 = pat.hkls[0]\n",
    "\n",
    "print('Angle theta : ' + str(theta_1) + '°')\n",
    "print('Intensité du pic : ' + str(pic_1))\n",
    "print('Indices hkl du pic :' + str(hkl_1))"
   ]
  },
  {
   "cell_type": "markdown",
   "id": "d0e60429",
   "metadata": {},
   "source": [
    "### Deuxième pic du diffractogramme et indicie hkl correspondant"
   ]
  },
  {
   "cell_type": "code",
   "execution_count": 18,
   "id": "da55a703",
   "metadata": {},
   "outputs": [
    {
     "name": "stdout",
     "output_type": "stream",
     "text": [
      "Angle theta : 22.145445335000755°\n",
      "Intensité du pic : 17.617514464165346\n",
      "Indices hkl du pic :[{'hkl': (1, 1, 0), 'multiplicity': 6}]\n"
     ]
    }
   ],
   "source": [
    "#Angle du deuxième pic\n",
    "theta_2 = pat.x[1]\n",
    "\n",
    "#Intensité du deuxième pic\n",
    "pic_2 = pat.y[1]\n",
    "\n",
    "#Indices hkl du deuxième pic\n",
    "hkl_2 = pat.hkls[1]\n",
    "\n",
    "print('Angle theta : ' + str(theta_2) + '°')\n",
    "print('Intensité du pic : ' + str(pic_2))\n",
    "print('Indices hkl du pic :' + str(hkl_2))"
   ]
  },
  {
   "cell_type": "markdown",
   "id": "f0dc9d69",
   "metadata": {},
   "source": [
    "### Troisième pic du diffractogramme et indicie hkl correspondant"
   ]
  },
  {
   "cell_type": "code",
   "execution_count": 17,
   "id": "9e132e14",
   "metadata": {},
   "outputs": [
    {
     "name": "stdout",
     "output_type": "stream",
     "text": [
      "Angle theta : 31.51976625974893 °\n",
      "Intensité du pic : 100.0\n",
      "Indices hkl du pic :[{'hkl': (2, 1, 1), 'multiplicity': 6}, {'hkl': (1, 0, -1), 'multiplicity': 6}]\n"
     ]
    }
   ],
   "source": [
    "#Angle du troisième pic\n",
    "theta_3 = pat.x[2]\n",
    "\n",
    "#Intensité du troisième pic\n",
    "pic_3 = pat.y[2]\n",
    "\n",
    "#Indices hkl du troisième pic\n",
    "hkl_3 = pat.hkls[2]\n",
    "\n",
    "print('Angle theta : ' + str(theta_3) + ' °')\n",
    "print('Intensité du pic : ' + str(pic_3))\n",
    "print('Indices hkl du pic :' + str(hkl_3))"
   ]
  }
 ],
 "metadata": {
  "kernelspec": {
   "display_name": "Python 3",
   "language": "python",
   "name": "python3"
  },
  "language_info": {
   "codemirror_mode": {
    "name": "ipython",
    "version": 3
   },
   "file_extension": ".py",
   "mimetype": "text/x-python",
   "name": "python",
   "nbconvert_exporter": "python",
   "pygments_lexer": "ipython3",
   "version": "3.6.8"
  }
 },
 "nbformat": 4,
 "nbformat_minor": 5
}
