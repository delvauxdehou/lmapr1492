{
 "cells": [
  {
   "cell_type": "code",
   "execution_count": 66,
   "id": "38fd7553",
   "metadata": {},
   "outputs": [],
   "source": [
    "from pymatgen.ext.matproj import MPRester\n",
    "from pymatgen.symmetry.analyzer import SpacegroupAnalyzer"
   ]
  },
  {
   "cell_type": "code",
   "execution_count": 67,
   "id": "ae96b9ac",
   "metadata": {},
   "outputs": [],
   "source": [
    "# input the mp id and the API key\n",
    "MP_id = \"mp-867193\"\n",
    "API = \"aEF0VdAXhHPNJOkG\"\n",
    "\n",
    "# defining the material object\n",
    "mpr = MPRester(API)"
   ]
  },
  {
   "cell_type": "markdown",
   "id": "2a0f860e",
   "metadata": {},
   "source": [
    "## Téléchargement du fichier CIF"
   ]
  },
  {
   "cell_type": "code",
   "execution_count": 68,
   "id": "d1b5f59c",
   "metadata": {},
   "outputs": [],
   "source": [
    "# collect the CIF file from the database\n",
    "structure_cif = mpr.get_data(MP_id,data_type = '', prop = 'cif').get('cif')"
   ]
  },
  {
   "cell_type": "markdown",
   "id": "4ba47c36",
   "metadata": {},
   "source": [
    "## Caractéristiques du cristal"
   ]
  },
  {
   "cell_type": "markdown",
   "id": "2d3e80ad",
   "metadata": {},
   "source": [
    "### Vecteurs de bases du réseau direct"
   ]
  },
  {
   "cell_type": "code",
   "execution_count": 69,
   "id": "e13916e8",
   "metadata": {},
   "outputs": [
    {
     "name": "stdout",
     "output_type": "stream",
     "text": [
      "a = 5.672177253440693 Å\n",
      "b = 5.672177253440693 Å\n",
      "c = 5.672177253440693 Å \n",
      "\n",
      "α = 60.00000000000001 °\n",
      "β = 60.00000000000001 °\n",
      "γ = 60.00000000000001 °\n"
     ]
    }
   ],
   "source": [
    "structure = mpr.get_structure_by_material_id(MP_id)\n",
    "vecteurs = structure.lattice.abc\n",
    "angles = structure.lattice.angles\n",
    "print(\"a =\",vecteurs[0],\"Å\")\n",
    "print(\"b =\",vecteurs[1],\"Å\")\n",
    "print(\"c =\",vecteurs[2],\"Å\",\"\\n\")\n",
    "print(\"α =\",angles[0],\"°\")\n",
    "print(\"β =\",angles[1],\"°\")\n",
    "print(\"γ =\",angles[2],\"°\")"
   ]
  },
  {
   "cell_type": "markdown",
   "id": "94286b2c",
   "metadata": {},
   "source": [
    "### Vecteurs de bases du réseau réciproque"
   ]
  },
  {
   "cell_type": "code",
   "execution_count": 70,
   "id": "3bf8659e",
   "metadata": {},
   "outputs": [
    {
     "name": "stdout",
     "output_type": "stream",
     "text": [
      "a* = 1.356674630769566 Å\n",
      "b* = 1.356674630769566 Å\n",
      "c* = 1.356674630769566 Å \n",
      "\n",
      "α* = 109.47122063449069 °\n",
      "β* = 109.47122063449069 °\n",
      "γ* = 109.47122063449069 °\n"
     ]
    }
   ],
   "source": [
    "vecteurs_réciproque = structure.lattice.reciprocal_lattice.abc\n",
    "angles_réciproque = structure.lattice.reciprocal_lattice.angles\n",
    "print(\"a* =\",vecteurs_réciproque[0],\"Å\")\n",
    "print(\"b* =\",vecteurs_réciproque[1],\"Å\")\n",
    "print(\"c* =\",vecteurs_réciproque[2],\"Å\",\"\\n\")\n",
    "print(\"α* =\",angles_réciproque[0],\"°\")\n",
    "print(\"β* =\",angles_réciproque[1],\"°\")\n",
    "print(\"γ* =\",angles_réciproque[2],\"°\")"
   ]
  },
  {
   "cell_type": "markdown",
   "id": "2a605eff",
   "metadata": {},
   "source": [
    "### Type de maille"
   ]
  },
  {
   "cell_type": "code",
   "execution_count": 71,
   "id": "220d5818",
   "metadata": {},
   "outputs": [
    {
     "name": "stdout",
     "output_type": "stream",
     "text": [
      "Type de maille :  cubic F (= face centrée)\n"
     ]
    }
   ],
   "source": [
    "#Type de maille\n",
    "spacegroup = mpr.get_data(MP_id, prop = 'spacegroup')\n",
    "maille = spacegroup[0]['spacegroup']['symbol'][0]\n",
    "maille2 = SpacegroupAnalyzer(structure).get_lattice_type()\n",
    "print(\"Type de maille : \",maille2, maille, \"(= face centrée)\")\n"
   ]
  },
  {
   "cell_type": "markdown",
   "id": "ec918b1a",
   "metadata": {},
   "source": [
    "### Système cristallin"
   ]
  },
  {
   "cell_type": "code",
   "execution_count": 72,
   "id": "d32dd055",
   "metadata": {},
   "outputs": [
    {
     "name": "stdout",
     "output_type": "stream",
     "text": [
      "Système Cristallin :  cubic\n"
     ]
    }
   ],
   "source": [
    "#Cristal System\n",
    "spacegroup = mpr.get_data(MP_id, prop = 'spacegroup')\n",
    "Cristal_system = spacegroup[0]['spacegroup']['crystal_system']\n",
    "print(\"Système Cristallin : \",Cristal_system)"
   ]
  },
  {
   "cell_type": "markdown",
   "id": "584d6899",
   "metadata": {},
   "source": [
    "### Groupe ponctuel"
   ]
  },
  {
   "cell_type": "code",
   "execution_count": 73,
   "id": "756b050b",
   "metadata": {},
   "outputs": [
    {
     "name": "stdout",
     "output_type": "stream",
     "text": [
      "Groupe ponctuel :  m-3m\n"
     ]
    }
   ],
   "source": [
    "#Point Group\n",
    "spacegroup = mpr.get_data(MP_id, prop = 'spacegroup')\n",
    "Point_group = spacegroup[0]['spacegroup']['point_group']\n",
    "print(\"Groupe ponctuel : \", Point_group)"
   ]
  }
 ],
 "metadata": {
  "kernelspec": {
   "display_name": "Python 3",
   "language": "python",
   "name": "python3"
  },
  "language_info": {
   "codemirror_mode": {
    "name": "ipython",
    "version": 3
   },
   "file_extension": ".py",
   "mimetype": "text/x-python",
   "name": "python",
   "nbconvert_exporter": "python",
   "pygments_lexer": "ipython3",
   "version": "3.6.8"
  }
 },
 "nbformat": 4,
 "nbformat_minor": 5
}
